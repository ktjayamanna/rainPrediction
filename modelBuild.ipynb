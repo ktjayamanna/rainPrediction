{
 "cells": [
  {
   "cell_type": "code",
   "execution_count": 167,
   "metadata": {},
   "outputs": [],
   "source": [
    "import opendatasets as od\n",
    "import numpy as np\n",
    "import pandas as pd\n",
    "import seaborn as sns\n",
    "import matplotlib.pyplot as plt\n"
   ]
  },
  {
   "cell_type": "code",
   "execution_count": 168,
   "metadata": {},
   "outputs": [
    {
     "name": "stdout",
     "output_type": "stream",
     "text": [
      "Skipping, found downloaded files in \"./weather-dataset-rattle-package\" (use force=True to force download)\n"
     ]
    }
   ],
   "source": [
    "#Download the dataset\n",
    "dataset_url = 'https://www.kaggle.com/jsphyg/weather-dataset-rattle-package'\n",
    "od.download(dataset_url)"
   ]
  },
  {
   "cell_type": "code",
   "execution_count": 169,
   "metadata": {},
   "outputs": [],
   "source": [
    "#Read Data\n",
    "df = pd.read_csv('weather-dataset-rattle-package/weatherAUS.csv')"
   ]
  },
  {
   "cell_type": "code",
   "execution_count": 170,
   "metadata": {},
   "outputs": [
    {
     "name": "stdout",
     "output_type": "stream",
     "text": [
      "The current summary of null value is \n",
      " Date              0.000000\n",
      "Location          0.000000\n",
      "MinTemp           1.020899\n",
      "MaxTemp           0.866905\n",
      "Rainfall          2.241853\n",
      "Evaporation      43.166506\n",
      "Sunshine         48.009762\n",
      "WindGustDir       7.098859\n",
      "WindGustSpeed     7.055548\n",
      "WindDir9am        7.263853\n",
      "WindDir3pm        2.906641\n",
      "WindSpeed9am      1.214767\n",
      "WindSpeed3pm      2.105046\n",
      "Humidity9am       1.824557\n",
      "Humidity3pm       3.098446\n",
      "Pressure9am      10.356799\n",
      "Pressure3pm      10.331363\n",
      "Cloud9am         38.421559\n",
      "Cloud3pm         40.807095\n",
      "Temp9am           1.214767\n",
      "Temp3pm           2.481094\n",
      "RainToday         2.241853\n",
      "RainTomorrow      2.245978\n",
      "dtype: float64\n"
     ]
    }
   ],
   "source": [
    "#check for null values\n",
    "def check_nulls():\n",
    "    rows_size = len(df)\n",
    "    null_sum = df.isnull().sum()\n",
    "    null_percentage = (null_sum / rows_size) * 100\n",
    "    return null_percentage\n",
    "print(\"The current summary of null value is \\n\", check_nulls())"
   ]
  },
  {
   "cell_type": "markdown",
   "metadata": {},
   "source": [
    "Since most of the attributes have less 7% we will drop rows of the attributes that have less than 7% null values overall."
   ]
  },
  {
   "cell_type": "code",
   "execution_count": 171,
   "metadata": {},
   "outputs": [
    {
     "name": "stdout",
     "output_type": "stream",
     "text": [
      "Dropped Percentage 7.472844768321188 %\n"
     ]
    }
   ],
   "source": [
    "candidates = check_nulls() < 7\n",
    "candidates = candidates[candidates]\n",
    "candidates = list(candidates.index)\n",
    "\n",
    "num_rows = len(df)\n",
    "df = df.dropna(subset = candidates)\n",
    "print(\"Dropped Percentage\",((num_rows - len(df))/num_rows) * 100, \"%\")"
   ]
  },
  {
   "cell_type": "code",
   "execution_count": 172,
   "metadata": {},
   "outputs": [
    {
     "name": "stdout",
     "output_type": "stream",
     "text": [
      "The current summary of null values is \n",
      " Date              0.000000\n",
      "Location          0.000000\n",
      "MinTemp           0.000000\n",
      "MaxTemp           0.000000\n",
      "Rainfall          0.000000\n",
      "Evaporation      41.682889\n",
      "Sunshine         45.957352\n",
      "WindGustDir       4.468385\n",
      "WindGustSpeed     4.458727\n",
      "WindDir9am        5.614830\n",
      "WindDir3pm        0.000000\n",
      "WindSpeed9am      0.000000\n",
      "WindSpeed3pm      0.000000\n",
      "Humidity9am       0.000000\n",
      "Humidity3pm       0.000000\n",
      "Pressure9am       8.332714\n",
      "Pressure3pm       8.285162\n",
      "Cloud9am         37.275429\n",
      "Cloud3pm         38.302994\n",
      "Temp9am           0.000000\n",
      "Temp3pm           0.000000\n",
      "RainToday         0.000000\n",
      "RainTomorrow      0.000000\n",
      "dtype: float64\n"
     ]
    }
   ],
   "source": [
    "#check for null values again\n",
    "print(\"The current summary of null values is \\n\", check_nulls())"
   ]
  },
  {
   "cell_type": "markdown",
   "metadata": {},
   "source": [
    "Notice that features that intuitively suggest a high correlation with our target variable (RainTomorrow) such as Evaporation, Sunshine, Cloud9am ,and Cloud3pm have a high precence of null values. That means that we can't really drop those columns. Also, notice the different data types and their domain.\n",
    "\n",
    "* Evaporation |      Continuous | 0 - Inf| Replace with mean.\n",
    "* Sunshine  |       Continous  | 0 - 24| Replace with mean.\n",
    "* WindGustDir  |    Nominal    | TBD| Replace with mode.\n",
    "* WindGustSpeed  |  Continous  | 0 - Inf| Replace with mean.\n",
    "* WindDir9am    |   Nominal    | TBD| Replace with mode.\n",
    "* Pressure9am | Continous |0 - Inf| Replace with mean.\n",
    "* Pressure3pm | Continous | 0- Inf| Replace with mean.\n",
    "* Cloud9am | Ordinal | TBD | Replace with mode.\n",
    "* Cloud3pm | Ordinal | TBD | Replace with mode.\n",
    "\n",
    "Where TBD is To Be Determined"
   ]
  },
  {
   "cell_type": "code",
   "execution_count": 173,
   "metadata": {},
   "outputs": [],
   "source": [
    "candidates = check_nulls() != 0\n",
    "candidates = candidates[candidates]\n",
    "candidates = list(candidates.index)\n",
    "fill_values = [\n",
    "    df[candidates[0]].mean(),\n",
    "    df[candidates[1]].mean(),\n",
    "    df[candidates[2]].mode(),\n",
    "    df[candidates[3]].mean(),\n",
    "    df[candidates[4]].mode(),\n",
    "    df[candidates[5]].mean(),\n",
    "    df[candidates[6]].mean(),\n",
    "    df[candidates[7]].mode(),\n",
    "    df[candidates[8]].mode()\n",
    "]\n",
    "for i in range(len(fill_values)):\n",
    "    df[candidates] = df[candidates].fillna(fill_values[i])\n"
   ]
  },
  {
   "cell_type": "code",
   "execution_count": 176,
   "metadata": {},
   "outputs": [
    {
     "name": "stdout",
     "output_type": "stream",
     "text": [
      "Date             0.0\n",
      "Location         0.0\n",
      "MinTemp          0.0\n",
      "MaxTemp          0.0\n",
      "Rainfall         0.0\n",
      "Evaporation      0.0\n",
      "Sunshine         0.0\n",
      "WindGustDir      0.0\n",
      "WindGustSpeed    0.0\n",
      "WindDir9am       0.0\n",
      "WindDir3pm       0.0\n",
      "WindSpeed9am     0.0\n",
      "WindSpeed3pm     0.0\n",
      "Humidity9am      0.0\n",
      "Humidity3pm      0.0\n",
      "Pressure9am      0.0\n",
      "Pressure3pm      0.0\n",
      "Cloud9am         0.0\n",
      "Cloud3pm         0.0\n",
      "Temp9am          0.0\n",
      "Temp3pm          0.0\n",
      "RainToday        0.0\n",
      "RainTomorrow     0.0\n",
      "dtype: float64\n"
     ]
    }
   ],
   "source": [
    "#Check for nulls one last time just to be sure...\n",
    "print(check_nulls())"
   ]
  },
  {
   "cell_type": "markdown",
   "metadata": {},
   "source": [
    "With that, we are done with handling null values. Let's get to the real stuff :)"
   ]
  }
 ],
 "metadata": {
  "kernelspec": {
   "display_name": "Python 3.9.12 ('base')",
   "language": "python",
   "name": "python3"
  },
  "language_info": {
   "codemirror_mode": {
    "name": "ipython",
    "version": 3
   },
   "file_extension": ".py",
   "mimetype": "text/x-python",
   "name": "python",
   "nbconvert_exporter": "python",
   "pygments_lexer": "ipython3",
   "version": "3.9.12"
  },
  "orig_nbformat": 4,
  "vscode": {
   "interpreter": {
    "hash": "570ff061d5dfd8445b7a305ade6a71d782362ebb022d0d656cbb83c562ef75bb"
   }
  }
 },
 "nbformat": 4,
 "nbformat_minor": 2
}
