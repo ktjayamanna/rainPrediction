{
 "cells": [
  {
   "cell_type": "markdown",
   "metadata": {},
   "source": [
    "# Download Data"
   ]
  },
  {
   "cell_type": "code",
   "execution_count": 25,
   "metadata": {},
   "outputs": [],
   "source": [
    "import opendatasets as od\n",
    "import numpy as np\n",
    "import pandas as pd\n",
    "import seaborn as sns\n",
    "import matplotlib.pyplot as plt\n",
    "from sklearn.preprocessing import OneHotEncoder\n",
    "from sklearn.preprocessing import LabelEncoder\n"
   ]
  },
  {
   "cell_type": "code",
   "execution_count": 26,
   "metadata": {},
   "outputs": [
    {
     "name": "stdout",
     "output_type": "stream",
     "text": [
      "Skipping, found downloaded files in \"./weather-dataset-rattle-package\" (use force=True to force download)\n"
     ]
    }
   ],
   "source": [
    "#Download the dataset\n",
    "dataset_url = 'https://www.kaggle.com/jsphyg/weather-dataset-rattle-package'\n",
    "od.download(dataset_url)"
   ]
  },
  {
   "cell_type": "code",
   "execution_count": 27,
   "metadata": {},
   "outputs": [],
   "source": [
    "#Read Data\n",
    "df = pd.read_csv('weather-dataset-rattle-package/weatherAUS.csv', index_col = False)"
   ]
  },
  {
   "cell_type": "code",
   "execution_count": 28,
   "metadata": {},
   "outputs": [],
   "source": [
    "original_column_names = df.columns"
   ]
  },
  {
   "cell_type": "markdown",
   "metadata": {},
   "source": [
    "# EDA"
   ]
  },
  {
   "cell_type": "code",
   "execution_count": 29,
   "metadata": {},
   "outputs": [
    {
     "name": "stdout",
     "output_type": "stream",
     "text": [
      "The current summary of null value is \n",
      " Date              0.000000\n",
      "Location          0.000000\n",
      "MinTemp           1.020899\n",
      "MaxTemp           0.866905\n",
      "Rainfall          2.241853\n",
      "Evaporation      43.166506\n",
      "Sunshine         48.009762\n",
      "WindGustDir       7.098859\n",
      "WindGustSpeed     7.055548\n",
      "WindDir9am        7.263853\n",
      "WindDir3pm        2.906641\n",
      "WindSpeed9am      1.214767\n",
      "WindSpeed3pm      2.105046\n",
      "Humidity9am       1.824557\n",
      "Humidity3pm       3.098446\n",
      "Pressure9am      10.356799\n",
      "Pressure3pm      10.331363\n",
      "Cloud9am         38.421559\n",
      "Cloud3pm         40.807095\n",
      "Temp9am           1.214767\n",
      "Temp3pm           2.481094\n",
      "RainToday         2.241853\n",
      "RainTomorrow      2.245978\n",
      "dtype: float64\n"
     ]
    }
   ],
   "source": [
    "#check for null values\n",
    "def check_nulls():\n",
    "    rows_size = len(df)\n",
    "    null_sum = df.isnull().sum()\n",
    "    null_percentage = (null_sum / rows_size) * 100\n",
    "    return null_percentage\n",
    "print(\"The current summary of null value is \\n\", check_nulls())"
   ]
  },
  {
   "cell_type": "markdown",
   "metadata": {},
   "source": [
    "Since most of the attributes have less 7% we will drop rows of the attributes that have less than 7% null values overall."
   ]
  },
  {
   "cell_type": "code",
   "execution_count": 30,
   "metadata": {},
   "outputs": [
    {
     "name": "stdout",
     "output_type": "stream",
     "text": [
      "Dropped Percentage 7.472844768321188 %\n"
     ]
    }
   ],
   "source": [
    "candidates = check_nulls() < 7\n",
    "candidates = candidates[candidates]\n",
    "candidates = list(candidates.index)\n",
    "\n",
    "num_rows = len(df)\n",
    "df = df.dropna(subset = candidates)\n",
    "print(\"Dropped Percentage\",((num_rows - len(df))/num_rows) * 100, \"%\")"
   ]
  },
  {
   "cell_type": "code",
   "execution_count": 31,
   "metadata": {},
   "outputs": [
    {
     "name": "stdout",
     "output_type": "stream",
     "text": [
      "The current summary of null values is \n",
      " Date              0.000000\n",
      "Location          0.000000\n",
      "MinTemp           0.000000\n",
      "MaxTemp           0.000000\n",
      "Rainfall          0.000000\n",
      "Evaporation      41.682889\n",
      "Sunshine         45.957352\n",
      "WindGustDir       4.468385\n",
      "WindGustSpeed     4.458727\n",
      "WindDir9am        5.614830\n",
      "WindDir3pm        0.000000\n",
      "WindSpeed9am      0.000000\n",
      "WindSpeed3pm      0.000000\n",
      "Humidity9am       0.000000\n",
      "Humidity3pm       0.000000\n",
      "Pressure9am       8.332714\n",
      "Pressure3pm       8.285162\n",
      "Cloud9am         37.275429\n",
      "Cloud3pm         38.302994\n",
      "Temp9am           0.000000\n",
      "Temp3pm           0.000000\n",
      "RainToday         0.000000\n",
      "RainTomorrow      0.000000\n",
      "dtype: float64\n"
     ]
    }
   ],
   "source": [
    "#check for null values again\n",
    "print(\"The current summary of null values is \\n\", check_nulls())"
   ]
  },
  {
   "cell_type": "markdown",
   "metadata": {},
   "source": [
    "Notice that features that intuitively suggest a high correlation with our target variable (RainTomorrow) such as Evaporation, Sunshine, Cloud9am ,and Cloud3pm have a high precence of null values. That means that we can't really drop those columns. Also, notice the different data types and their domain.\n",
    "\n",
    "* Evaporation |      Continuous | 0 - Inf| Replace with mean.\n",
    "* Sunshine  |       Continous  | 0 - 24| Replace with mean.\n",
    "* WindGustDir  |    Nominal    | TBD| Replace with mode.\n",
    "* WindGustSpeed  |  Continous  | 0 - Inf| Replace with mean.\n",
    "* WindDir9am    |   Nominal    | TBD| Replace with mode.\n",
    "* Pressure9am | Continous |0 - Inf| Replace with mean.\n",
    "* Pressure3pm | Continous | 0- Inf| Replace with mean.\n",
    "* Cloud9am | Ordinal | TBD | Replace with mode.\n",
    "* Cloud3pm | Ordinal | TBD | Replace with mode.\n",
    "\n",
    "Where TBD is To Be Determined"
   ]
  },
  {
   "cell_type": "code",
   "execution_count": 32,
   "metadata": {},
   "outputs": [],
   "source": [
    "candidates = check_nulls() != 0\n",
    "candidates = candidates[candidates]\n",
    "candidates = list(candidates.index)\n",
    "fill_values = [\n",
    "    df[candidates[0]].mean(),\n",
    "    df[candidates[1]].mean(),\n",
    "    df[candidates[2]].mode(),\n",
    "    df[candidates[3]].mean(),\n",
    "    df[candidates[4]].mode(),\n",
    "    df[candidates[5]].mean(),\n",
    "    df[candidates[6]].mean(),\n",
    "    df[candidates[7]].mode(),\n",
    "    df[candidates[8]].mode()\n",
    "]\n",
    "for i in range(len(fill_values)):\n",
    "    df[candidates] = df[candidates].fillna(fill_values[i])\n"
   ]
  },
  {
   "cell_type": "code",
   "execution_count": 33,
   "metadata": {},
   "outputs": [
    {
     "name": "stdout",
     "output_type": "stream",
     "text": [
      "Date             0.0\n",
      "Location         0.0\n",
      "MinTemp          0.0\n",
      "MaxTemp          0.0\n",
      "Rainfall         0.0\n",
      "Evaporation      0.0\n",
      "Sunshine         0.0\n",
      "WindGustDir      0.0\n",
      "WindGustSpeed    0.0\n",
      "WindDir9am       0.0\n",
      "WindDir3pm       0.0\n",
      "WindSpeed9am     0.0\n",
      "WindSpeed3pm     0.0\n",
      "Humidity9am      0.0\n",
      "Humidity3pm      0.0\n",
      "Pressure9am      0.0\n",
      "Pressure3pm      0.0\n",
      "Cloud9am         0.0\n",
      "Cloud3pm         0.0\n",
      "Temp9am          0.0\n",
      "Temp3pm          0.0\n",
      "RainToday        0.0\n",
      "RainTomorrow     0.0\n",
      "dtype: float64\n"
     ]
    }
   ],
   "source": [
    "#Check for nulls one last time just to be sure...\n",
    "print(check_nulls())"
   ]
  },
  {
   "cell_type": "markdown",
   "metadata": {},
   "source": [
    "With that, we are done with handling null values. Let's get to the real stuff :)"
   ]
  },
  {
   "cell_type": "code",
   "execution_count": 34,
   "metadata": {},
   "outputs": [
    {
     "data": {
      "text/plain": [
       "<AxesSubplot:>"
      ]
     },
     "execution_count": 34,
     "metadata": {},
     "output_type": "execute_result"
    },
    {
     "data": {
      "image/png": "[encoded data removed]",
      "text/plain": [
       "<Figure size 432x288 with 2 Axes>"
      ]
     },
     "metadata": {
      "needs_background": "light"
     },
     "output_type": "display_data"
    }
   ],
   "source": [
    "#Let's check which features have the highest correlation between numerical features.\n",
    "sns.heatmap(df.corr(), cmap = 'Greens' )"
   ]
  },
  {
   "cell_type": "code",
   "execution_count": 35,
   "metadata": {},
   "outputs": [
    {
     "name": "stdout",
     "output_type": "stream",
     "text": [
      " A summary of unique values in categorical variables \n",
      " Date            3436\n",
      "Location          49\n",
      "WindGustDir       17\n",
      "WindDir9am        17\n",
      "WindDir3pm        16\n",
      "RainToday          2\n",
      "RainTomorrow       2\n",
      "dtype: int64\n"
     ]
    }
   ],
   "source": [
    "#get categorical columns\n",
    "categorical_cols = df.select_dtypes('object').columns.tolist()\n",
    "print(\" A summary of unique values in categorical variables \\n\",df[categorical_cols].nunique())"
   ]
  },
  {
   "cell_type": "code",
   "execution_count": 36,
   "metadata": {},
   "outputs": [
    {
     "name": "stdout",
     "output_type": "stream",
     "text": [
      "Date ['2008-12-01' '2008-12-02' '2008-12-03' ... '2008-08-27' '2008-11-13'\n",
      " '2008-11-22']\n",
      "Location ['Albury' 'BadgerysCreek' 'Cobar' 'CoffsHarbour' 'Moree' 'Newcastle'\n",
      " 'NorahHead' 'NorfolkIsland' 'Penrith' 'Richmond' 'Sydney' 'SydneyAirport'\n",
      " 'WaggaWagga' 'Williamtown' 'Wollongong' 'Canberra' 'Tuggeranong'\n",
      " 'MountGinini' 'Ballarat' 'Bendigo' 'Sale' 'MelbourneAirport' 'Melbourne'\n",
      " 'Mildura' 'Nhil' 'Portland' 'Watsonia' 'Dartmoor' 'Brisbane' 'Cairns'\n",
      " 'GoldCoast' 'Townsville' 'Adelaide' 'MountGambier' 'Nuriootpa' 'Woomera'\n",
      " 'Albany' 'Witchcliffe' 'PearceRAAF' 'PerthAirport' 'Perth' 'SalmonGums'\n",
      " 'Walpole' 'Hobart' 'Launceston' 'AliceSprings' 'Darwin' 'Katherine'\n",
      " 'Uluru']\n",
      "WindGustDir ['W' 'WNW' 'WSW' 'NE' 'NNW' 'N' 'NNE' 'SW' 'ENE' 'SSE' 'S' 'NW' 'SE' 'ESE'\n",
      " 'E' 'SSW' 5.468291098115681]\n",
      "WindDir9am ['W' 'NNW' 'SE' 'ENE' 'SW' 'SSE' 'S' 'NE' 'SSW' 'N' 'WSW' 'ESE' 'E'\n",
      " 5.468291098115681 'NW' 'WNW' 'NNE']\n",
      "WindDir3pm ['WNW' 'WSW' 'E' 'NW' 'W' 'SSE' 'ESE' 'ENE' 'NNW' 'SSW' 'SW' 'SE' 'N' 'S'\n",
      " 'NNE' 'NE']\n",
      "RainToday ['No' 'Yes']\n",
      "RainTomorrow ['No' 'Yes']\n"
     ]
    }
   ],
   "source": [
    "for i in categorical_cols:\n",
    "    print(i, df[i].unique())"
   ]
  },
  {
   "cell_type": "markdown",
   "metadata": {},
   "source": [
    "Notice that both WindGustDir, and WindDir9am have an anomoly number."
   ]
  },
  {
   "cell_type": "code",
   "execution_count": 37,
   "metadata": {},
   "outputs": [
    {
     "name": "stdout",
     "output_type": "stream",
     "text": [
      "The summary of the anomoly value count is \n",
      "  WindGustDir    6014\n",
      "WindDir9am     7557\n",
      "dtype: int64\n",
      "At the worst case, we'll be throwing away 10.08321569210194% of the data \n"
     ]
    }
   ],
   "source": [
    "anomoly = df[['WindGustDir','WindDir9am']] == 5.468291098115681\n",
    "temp_sum = np.array(list(anomoly.sum())).sum()\n",
    "print(\"The summary of the anomoly value count is \\n \", anomoly.sum())\n",
    "print(f\"At the worst case, we'll be throwing away {temp_sum * 100/len(df)}% of the data \")"
   ]
  },
  {
   "cell_type": "code",
   "execution_count": 38,
   "metadata": {},
   "outputs": [],
   "source": [
    "# 10% is a lot of data, so let's replace it with a new category called \"dont_know\"\n",
    "df['WindGustDir'].replace(to_replace = 5.468291098115681,value = \"dont_know\", inplace=True )\n",
    "df['WindDir9am'].replace(to_replace = 5.468291098115681,value = \"dont_know\", inplace= True )"
   ]
  },
  {
   "cell_type": "code",
   "execution_count": 39,
   "metadata": {},
   "outputs": [
    {
     "name": "stdout",
     "output_type": "stream",
     "text": [
      "Date ['2008-12-01' '2008-12-02' '2008-12-03' ... '2008-08-27' '2008-11-13'\n",
      " '2008-11-22']\n",
      "Location ['Albury' 'BadgerysCreek' 'Cobar' 'CoffsHarbour' 'Moree' 'Newcastle'\n",
      " 'NorahHead' 'NorfolkIsland' 'Penrith' 'Richmond' 'Sydney' 'SydneyAirport'\n",
      " 'WaggaWagga' 'Williamtown' 'Wollongong' 'Canberra' 'Tuggeranong'\n",
      " 'MountGinini' 'Ballarat' 'Bendigo' 'Sale' 'MelbourneAirport' 'Melbourne'\n",
      " 'Mildura' 'Nhil' 'Portland' 'Watsonia' 'Dartmoor' 'Brisbane' 'Cairns'\n",
      " 'GoldCoast' 'Townsville' 'Adelaide' 'MountGambier' 'Nuriootpa' 'Woomera'\n",
      " 'Albany' 'Witchcliffe' 'PearceRAAF' 'PerthAirport' 'Perth' 'SalmonGums'\n",
      " 'Walpole' 'Hobart' 'Launceston' 'AliceSprings' 'Darwin' 'Katherine'\n",
      " 'Uluru']\n",
      "WindGustDir ['W' 'WNW' 'WSW' 'NE' 'NNW' 'N' 'NNE' 'SW' 'ENE' 'SSE' 'S' 'NW' 'SE' 'ESE'\n",
      " 'E' 'SSW' 'dont_know']\n",
      "WindDir9am ['W' 'NNW' 'SE' 'ENE' 'SW' 'SSE' 'S' 'NE' 'SSW' 'N' 'WSW' 'ESE' 'E'\n",
      " 'dont_know' 'NW' 'WNW' 'NNE']\n",
      "WindDir3pm ['WNW' 'WSW' 'E' 'NW' 'W' 'SSE' 'ESE' 'ENE' 'NNW' 'SSW' 'SW' 'SE' 'N' 'S'\n",
      " 'NNE' 'NE']\n",
      "RainToday ['No' 'Yes']\n",
      "RainTomorrow ['No' 'Yes']\n"
     ]
    }
   ],
   "source": [
    "for i in categorical_cols:\n",
    "    print(i, df[i].unique())"
   ]
  },
  {
   "cell_type": "markdown",
   "metadata": {},
   "source": [
    "Look! the weird number is gone! Also, it seems like except RainToday and RainTomorrow, everything else is nominal. Let's do label encoding for the ordinals above."
   ]
  },
  {
   "cell_type": "code",
   "execution_count": 40,
   "metadata": {},
   "outputs": [],
   "source": [
    "\n",
    "#Save up the mappings\n",
    "label_encodings = {}\n",
    "def labelEncode(_df, _col_name):\n",
    "    # creating instance of labelencoder\n",
    "    labelencoder = LabelEncoder()\n",
    "    df = _df\n",
    "    col_name = _col_name\n",
    "    #fit\n",
    "    labelencoder.fit(df[col_name])\n",
    "    mapped_from = labelencoder.classes_\n",
    "    #transform\n",
    "    df[col_name] = labelencoder.transform(df[col_name])\n",
    "    mapped_to = labelencoder.transform(mapped_from)\n",
    "    #concat the mapping\n",
    "    res = dict(zip(mapped_from, mapped_to))\n",
    "    return (res, df)\n",
    "mapping, df = labelEncode(df, 'RainToday')\n",
    "label_encodings['RainToday'] = mapping\n",
    "\n",
    "mapping, df = labelEncode(df, 'RainTomorrow')\n",
    "label_encodings['RainTomorrow'] = mapping\n"
   ]
  },
  {
   "cell_type": "code",
   "execution_count": 41,
   "metadata": {},
   "outputs": [],
   "source": [
    "#apply one hot encoding to nominal features.\n",
    "ohe = OneHotEncoder()\n",
    "one_hot_encodes = ohe.fit_transform(df[categorical_cols[1:-2]]).toarray()\n",
    "one_hot_labels = np.hstack(np.array(ohe.categories_, dtype=object))\n",
    "categorical_df = pd.DataFrame(one_hot_encodes, columns=one_hot_labels)\n",
    "#let's drop a column from categorical_df to reduce multicollinearity.\n",
    "categorical_df.drop(categorical_df.columns[0], inplace = True, axis = 'columns')\n",
    "# #Let's drop the nominal columns\n",
    "df.drop(categorical_cols[1:-2],inplace= True,axis='columns')"
   ]
  },
  {
   "cell_type": "markdown",
   "metadata": {},
   "source": [
    "Before we concatnate the dataframes, make sure you reset the indices of both dataframes as below."
   ]
  },
  {
   "cell_type": "code",
   "execution_count": 42,
   "metadata": {},
   "outputs": [],
   "source": [
    "df.reset_index(drop=True, inplace=True)\n",
    "categorical_df.reset_index(drop=True, inplace=True)"
   ]
  },
  {
   "cell_type": "code",
   "execution_count": 43,
   "metadata": {},
   "outputs": [],
   "source": [
    "# #Add the categorical columns\n",
    "df_processed = pd.concat([df, categorical_df], axis = 1)"
   ]
  },
  {
   "cell_type": "markdown",
   "metadata": {},
   "source": [
    "Lastly, we have to convert the date into a date number."
   ]
  },
  {
   "cell_type": "code",
   "execution_count": 44,
   "metadata": {},
   "outputs": [],
   "source": [
    "#convert to date number.\n",
    "df_processed['Date'] = pd.to_datetime(df_processed['Date'])"
   ]
  },
  {
   "cell_type": "markdown",
   "metadata": {},
   "source": [
    "Let's seperate the dependent variable from the independent variables."
   ]
  },
  {
   "cell_type": "code",
   "execution_count": 45,
   "metadata": {},
   "outputs": [],
   "source": [
    "y = pd.DataFrame(df_processed['RainTomorrow'])\n",
    "x = df_processed.drop('RainTomorrow', axis = 1)\n",
    "cols = list(x.columns)"
   ]
  },
  {
   "cell_type": "markdown",
   "metadata": {},
   "source": [
    "Now, our dataset is clean. Let's try to derive insights from the processed data."
   ]
  }
 ],
 "metadata": {
  "kernelspec": {
   "display_name": "Python 3.9.12 ('base')",
   "language": "python",
   "name": "python3"
  },
  "language_info": {
   "codemirror_mode": {
    "name": "ipython",
    "version": 3
   },
   "file_extension": ".py",
   "mimetype": "text/x-python",
   "name": "python",
   "nbconvert_exporter": "python",
   "pygments_lexer": "ipython3",
   "version": "3.9.12"
  },
  "orig_nbformat": 4,
  "vscode": {
   "interpreter": {
    "hash": "570ff061d5dfd8445b7a305ade6a71d782362ebb022d0d656cbb83c562ef75bb"
   }
  }
 },
 "nbformat": 4,
 "nbformat_minor": 2
}
